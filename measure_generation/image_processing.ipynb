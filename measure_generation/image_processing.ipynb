{
 "cells": [
  {
   "cell_type": "code",
   "execution_count": 1,
   "metadata": {},
   "outputs": [],
   "source": [
    "import numpy as np\n",
    "from PIL import Image\n",
    "from bs4 import BeautifulSoup\n",
    "import matplotlib.pyplot as plt"
   ]
  },
  {
   "cell_type": "code",
   "execution_count": 2,
   "metadata": {},
   "outputs": [],
   "source": [
    "with open('generated_data_bravura/0_bravura-1.svg') as f:\n",
    "    soup = BeautifulSoup(f, 'xml')"
   ]
  },
  {
   "cell_type": "code",
   "execution_count": 3,
   "metadata": {},
   "outputs": [
    {
     "name": "stdout",
     "output_type": "stream",
     "text": [
      "2976.38 4209.44\n"
     ]
    }
   ],
   "source": [
    "svg_tag = soup.find('svg')\n",
    "width = float(svg_tag['width'].strip('px'))\n",
    "height = float(svg_tag['height'].strip('px'))\n",
    "print(width, height)"
   ]
  },
  {
   "cell_type": "code",
   "execution_count": 16,
   "metadata": {},
   "outputs": [
    {
     "name": "stdout",
     "output_type": "stream",
     "text": [
      "<polyline class=\"BarLine\" points=\"2617.16,828.233 2617.16,930.233\" stroke=\"#000000\" stroke-linejoin=\"bevel\" stroke-width=\"4.00\"/>\n"
     ]
    }
   ],
   "source": [
    "barline = [x for x in soup.find_all('polyline') if x['class'] == 'BarLine'][1]\n",
    "print(barline)"
   ]
  },
  {
   "cell_type": "code",
   "execution_count": null,
   "metadata": {},
   "outputs": [],
   "source": []
  }
 ],
 "metadata": {
  "kernelspec": {
   "display_name": "Python 3",
   "language": "python",
   "name": "python3"
  },
  "language_info": {
   "codemirror_mode": {
    "name": "ipython",
    "version": 3
   },
   "file_extension": ".py",
   "mimetype": "text/x-python",
   "name": "python",
   "nbconvert_exporter": "python",
   "pygments_lexer": "ipython3",
   "version": "3.7.4"
  }
 },
 "nbformat": 4,
 "nbformat_minor": 4
}
